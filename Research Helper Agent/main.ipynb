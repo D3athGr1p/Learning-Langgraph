{
 "cells": [
  {
   "cell_type": "code",
   "execution_count": 17,
   "metadata": {},
   "outputs": [],
   "source": [
    "from typing import TypedDict\n",
    "from langgraph.graph import StateGraph, START, END\n",
    "from langchain_core.messages import BaseMessage, SystemMessage, HumanMessage, ToolMessage\n",
    "from langchain_openai import ChatOpenAI\n",
    "from langchain_core.tools import tool\n",
    "from langgraph.prebuilt import ToolNode\n",
    "from dotenv import load_dotenv"
   ]
  },
  {
   "cell_type": "code",
   "execution_count": 2,
   "metadata": {},
   "outputs": [
    {
     "data": {
      "text/plain": [
       "True"
      ]
     },
     "execution_count": 2,
     "metadata": {},
     "output_type": "execute_result"
    }
   ],
   "source": [
    "load_dotenv()"
   ]
  },
  {
   "cell_type": "code",
   "execution_count": null,
   "metadata": {},
   "outputs": [],
   "source": [
    "class AgentState(TypedDict):\n",
    "    topic: str\n",
    "    report: str\n",
    "    summary: str"
   ]
  },
  {
   "cell_type": "code",
   "execution_count": 26,
   "metadata": {},
   "outputs": [],
   "source": [
    "llm = ChatOpenAI(model='gpt-4o-mini', temperature=0.3)"
   ]
  },
  {
   "cell_type": "code",
   "execution_count": 27,
   "metadata": {},
   "outputs": [],
   "source": [
    "summarize_research_prompt = \"\"\"\n",
    "\"\"\""
   ]
  },
  {
   "cell_type": "code",
   "execution_count": null,
   "metadata": {},
   "outputs": [],
   "source": [
    "@tool\n",
    "def research(topic: str, limit: int, time_frame: str) -> list:\n",
    "    \"\"\"\n",
    "    This tool will do research about any given topics,\n",
    "    it will do websearch using firecrawl search and scrape data,\n",
    "    it will then create a detailed report and return as a string\n",
    "\n",
    "\n",
    "    Args:\n",
    "        topic: Name or context of topic to research about max 100 chars\n",
    "        limit: result limit\n",
    "        time_frame: freshness // qdr:h - Past hour, qdr:d - Past 24 hours, qdr:w - Past week, qdr:m - Past month, qdr:y - Past year\n",
    "    \"\"\"\n",
    "    from firecrawl import FirecrawlApp, ScrapeOptions\n",
    "    app = FirecrawlApp(api_key=\"fc-YOUR_API_KEY\")\n",
    "    search_result = app.search(\n",
    "        topic, \n",
    "        limit=limit,\n",
    "        scrape_options=ScrapeOptions(formats=[\"markdown\"]),\n",
    "        tbs=time_frame\n",
    "    )\n",
    "\n",
    "    return search_result.data\n",
    "\n",
    "\n",
    "@tool\n",
    "def summarize_research(research_data: str) -> str:\n",
    "    \"\"\"\n",
    "    After successfully getting report topic from research tool,\n",
    "    this tool will help it summuarize the entire report and explain out in simpler term for user.\n",
    "\n",
    "    Args:\n",
    "        research_data: Entire report, to generate the summary\n",
    "    \"\"\"\n",
    "    local_llm_node = ChatOpenAI(model=\"gpt-4o-mini\")\n",
    "\n",
    "    user_message = HumanMessage(content=research_data)\n",
    "    msg = [summarize_research_prompt] + ['\\n\\n' + user_message]\n",
    "\n",
    "    prompt = SystemMessage(content=msg)\n",
    "\n",
    "    response = local_llm_node.invoke(prompt)\n",
    "\n",
    "    return response.content\n",
    "\n",
    "\n",
    "def save(paper: str) -> str:\n",
    "    \"\"\"Determine if we should save or discard the report.\"\"\"\n",
    "\n",
    "    save = input(\" 🧠 AI : Do you want to save the report? (Y/n)\").strip().lower()\n",
    "\n",
    "    if save == 'y':\n",
    "        pass\n",
    "    else:\n",
    "        pass\n",
    "\n",
    "    return 'success'\n",
    "\n",
    "@tool\n",
    "def output_display(state: AgentState) -> AgentState:\n",
    "    \"\"\"\n",
    "    After getting summary of report it will display the summary to user\n",
    "\n",
    "    Args:\n",
    "        state: entire node state \n",
    "    \"\"\"\n",
    "    \n",
    "    save(state['report'])\n",
    "    save(state['summary'])\n",
    "\n",
    "    return state"
   ]
  },
  {
   "cell_type": "code",
   "execution_count": 14,
   "metadata": {},
   "outputs": [
    {
     "data": {
      "text/plain": [
       "RunnableBinding(bound=ChatOpenAI(client=<openai.resources.chat.completions.completions.Completions object at 0x7b5b48435460>, async_client=<openai.resources.chat.completions.completions.AsyncCompletions object at 0x7b5b48405430>, root_client=<openai.OpenAI object at 0x7b5b484315b0>, root_async_client=<openai.AsyncOpenAI object at 0x7b5b480d7b90>, model_name='gpt-4o-mini', temperature=0.3, model_kwargs={}, openai_api_key=SecretStr('**********')), kwargs={'tools': [{'type': 'function', 'function': {'name': 'research', 'description': 'This tool will do research about any given topics,\\nit will do websearch using firecrawl search and scrape data,\\nit will then create a detailed report and return as a string', 'parameters': {'properties': {'topic': {'type': 'string'}}, 'required': ['topic'], 'type': 'object'}}}, {'type': 'function', 'function': {'name': 'summarize_research', 'description': 'After successfully getting report topic from research tool,\\nthis tool will help it summuarize the entire report and explain out in simpler term for user.', 'parameters': {'properties': {'research_data': {'type': 'string'}}, 'required': ['research_data'], 'type': 'object'}}}, {'type': 'function', 'function': {'name': 'output_display', 'description': 'After getting summary of report it will display the summary to user', 'parameters': {'properties': {'research_data': {'type': 'string'}}, 'required': ['research_data'], 'type': 'object'}}}]}, config={}, config_factories=[])"
      ]
     },
     "execution_count": 14,
     "metadata": {},
     "output_type": "execute_result"
    }
   ],
   "source": [
    "tools = [research, summarize_research, output_display]\n",
    "llm.bind_tools(tools=tools)"
   ]
  },
  {
   "cell_type": "code",
   "execution_count": null,
   "metadata": {},
   "outputs": [],
   "source": [
    "def init_node(state: AgentState) -> AgentState:\n",
    "    \"\"\"Initially Ask about search topic\"\"\"\n",
    "\n",
    "    # research_topic = input(\" 🧠 AI : Please inseart the topic you want to research about : \").strip().lower()\n",
    "    research_topic = 'AI agent'\n",
    "\n",
    "    if research_topic == 'exit' or research_topic == 'quit' or research_topic == \"\":\n",
    "        import sys\n",
    "        sys.exit(0)\n",
    "\n",
    "    state['topic'] = research_topic\n",
    "\n",
    "    return state\n",
    "\n",
    "system_prompt = \"\"\"\n",
    "\"\"\"\n",
    "\n",
    "enhancement_prompt = \"\"\"\n",
    "\"\"\"\n",
    "\n",
    "def prompt_enhancer(state: AgentState) -> AgentState:\n",
    "    \"\"\"This AI node is used for prompt enhancement\"\"\"\n",
    "\n",
    "    llm_node = ChatOpenAI(model='gpt-4o-mini', temperature=0.5)\n",
    "\n",
    "    user_message = HumanMessage(content=state['topic'])\n",
    "    prompt = [enhancement_prompt] + ['\\n\\n' + user_message]\n",
    "    response = llm_node.invoke(prompt)\n",
    "\n",
    "    state['topic'] = response.content\n",
    "\n",
    "    return state\n",
    "\n",
    "\n",
    "def agent(state: AgentState) -> AgentState:\n",
    "    \"\"\"AI Agent to deeply run research about\"\"\"\n",
    "    \n",
    "    message = [system_prompt] + [\"\\n\\n Research Topic:\\n\" + state['topic']]\n",
    "\n",
    "    response = llm.invoke(message)\n",
    "\n",
    "    print(f\"\\n🤖 AI: {response.content}\")\n",
    "    if hasattr(response, \"tool_calls\") and response.tool_calls:\n",
    "        print(f\"🔧 USING TOOLS: {[tc['name'] for tc in response.tool_calls]}\")\n",
    "\n",
    "    return state\n",
    "\n",
    "\n",
    "def print_messages(messages):\n",
    "    \"\"\"Function I made to print the messages in a more readable format\"\"\"\n",
    "    if not messages:\n",
    "        return\n",
    "    \n",
    "    for message in messages[-3:]:\n",
    "        if isinstance(message, ToolMessage):\n",
    "            print(f\"\\n🛠️ TOOL RESULT: {message.content}\")"
   ]
  },
  {
   "cell_type": "code",
   "execution_count": 22,
   "metadata": {},
   "outputs": [],
   "source": [
    "graph = StateGraph(AgentState)\n",
    "graph.add_node(\"init_node\", init_node)\n",
    "graph.add_node(\"prompt_enhancer\", prompt_enhancer)\n",
    "graph.add_node(\"agent\", agent)\n",
    "\n",
    "graph.add_edge(START, \"init_node\")\n",
    "graph.add_edge(\"init_node\", \"prompt_enhancer\")\n",
    "graph.add_edge(\"prompt_enhancer\", \"agent\")\n",
    "graph.add_edge('agent', END)\n",
    "\n",
    "app = graph.compile()"
   ]
  },
  {
   "cell_type": "code",
   "execution_count": 23,
   "metadata": {},
   "outputs": [
    {
     "data": {
      "image/png": "[encoded data removed]",
      "text/plain": [
       "<IPython.core.display.Image object>"
      ]
     },
     "metadata": {},
     "output_type": "display_data"
    }
   ],
   "source": [
    "from IPython.display import display, Image\n",
    "display(Image(app.get_graph().draw_mermaid_png()))"
   ]
  },
  {
   "cell_type": "code",
   "execution_count": null,
   "metadata": {},
   "outputs": [],
   "source": [
    "def run_researcher_agent():\n",
    "    print(\"\\n ===== RESEARCHER =====\")\n",
    "    state = {\"topic\": '', \"report\": '', 'summary': ''}\n",
    "    app.invoke(state)\n",
    "    print(\"\\n ===== RESEARCHER FINISHED =====\")\n",
    "\n",
    "if __name__ == \"__main__\":\n",
    "    run_researcher_agent()"
   ]
  }
 ],
 "metadata": {
  "kernelspec": {
   "display_name": "Python 3",
   "language": "python",
   "name": "python3"
  },
  "language_info": {
   "codemirror_mode": {
    "name": "ipython",
    "version": 3
   },
   "file_extension": ".py",
   "mimetype": "text/x-python",
   "name": "python",
   "nbconvert_exporter": "python",
   "pygments_lexer": "ipython3",
   "version": "3.12.9"
  }
 },
 "nbformat": 4,
 "nbformat_minor": 2
}
